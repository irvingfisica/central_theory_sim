{
 "metadata": {
  "language_info": {
   "codemirror_mode": {
    "name": "ipython",
    "version": 3
   },
   "file_extension": ".py",
   "mimetype": "text/x-python",
   "name": "python",
   "nbconvert_exporter": "python",
   "pygments_lexer": "ipython3",
   "version": "3.8.3"
  },
  "orig_nbformat": 2,
  "kernelspec": {
   "name": "python3",
   "display_name": "Python 3.8.3 64-bit ('base': conda)",
   "metadata": {
    "interpreter": {
     "hash": "9ff26dfd9b0fc0cca3d8c400f6814bd976a81d0f03d9612ba05cf6591c88322d"
    }
   }
  }
 },
 "nbformat": 4,
 "nbformat_minor": 2,
 "cells": [
  {
   "cell_type": "code",
   "execution_count": 2,
   "metadata": {},
   "outputs": [],
   "source": [
    "import pandas as pd\n",
    "import geopandas as gpd"
   ]
  },
  {
   "cell_type": "code",
   "execution_count": 40,
   "metadata": {},
   "outputs": [
    {
     "output_type": "stream",
     "name": "stderr",
     "text": [
      "C:\\Users\\irvin\\AppData\\Roaming\\Python\\Python38\\site-packages\\IPython\\core\\interactiveshell.py:3145: DtypeWarning: Columns (178) have mixed types.Specify dtype option on import or set low_memory=False.\n  has_raised = await self.run_ast_nodes(code_ast.body, cell_name,\n"
     ]
    }
   ],
   "source": [
    "agebs = gpd.read_file(\"../datos/agebs_cdmx/09a.shp\")\n",
    "datag = pd.read_csv(\"../datos/agebs_cdmx/RESAGEBURB_09CSV20.csv\")"
   ]
  },
  {
   "cell_type": "code",
   "execution_count": 41,
   "metadata": {},
   "outputs": [
    {
     "output_type": "execute_result",
     "data": {
      "text/plain": [
       "   ENTIDAD           NOM_ENT  MUN                               NOM_MUN  LOC  \\\n",
       "0        9  Ciudad de México    0  Total de la entidad Ciudad de México    0   \n",
       "1        9  Ciudad de México    2                          Azcapotzalco    0   \n",
       "2        9  Ciudad de México    2                          Azcapotzalco    1   \n",
       "\n",
       "                        NOM_LOC  AGEB  MZA   POBTOT   POBFEM  ... VPH_TELEF  \\\n",
       "0           Total de la entidad  0000    0  9209944  4805017  ...   1898265   \n",
       "1           Total del municipio  0000    0   432205   227255  ...     96128   \n",
       "2  Total de la localidad urbana  0000    0   432205   227255  ...     96128   \n",
       "\n",
       "   VPH_CEL VPH_INTER VPH_STVP VPH_SPMVPI VPH_CVJ VPH_SINRTV VPH_SINLTC  \\\n",
       "0  2536523   2084156  1290811     957162  568827      46172      77272   \n",
       "1   123961    105899    66399      50965   31801       1661       2869   \n",
       "2   123961    105899    66399      50965   31801       1661       2869   \n",
       "\n",
       "  VPH_SINCINT VPH_SINTIC  \n",
       "0      561128      10528  \n",
       "1       22687        322  \n",
       "2       22687        322  \n",
       "\n",
       "[3 rows x 229 columns]"
      ],
      "text/html": "<div>\n<style scoped>\n    .dataframe tbody tr th:only-of-type {\n        vertical-align: middle;\n    }\n\n    .dataframe tbody tr th {\n        vertical-align: top;\n    }\n\n    .dataframe thead th {\n        text-align: right;\n    }\n</style>\n<table border=\"1\" class=\"dataframe\">\n  <thead>\n    <tr style=\"text-align: right;\">\n      <th></th>\n      <th>ENTIDAD</th>\n      <th>NOM_ENT</th>\n      <th>MUN</th>\n      <th>NOM_MUN</th>\n      <th>LOC</th>\n      <th>NOM_LOC</th>\n      <th>AGEB</th>\n      <th>MZA</th>\n      <th>POBTOT</th>\n      <th>POBFEM</th>\n      <th>...</th>\n      <th>VPH_TELEF</th>\n      <th>VPH_CEL</th>\n      <th>VPH_INTER</th>\n      <th>VPH_STVP</th>\n      <th>VPH_SPMVPI</th>\n      <th>VPH_CVJ</th>\n      <th>VPH_SINRTV</th>\n      <th>VPH_SINLTC</th>\n      <th>VPH_SINCINT</th>\n      <th>VPH_SINTIC</th>\n    </tr>\n  </thead>\n  <tbody>\n    <tr>\n      <th>0</th>\n      <td>9</td>\n      <td>Ciudad de México</td>\n      <td>0</td>\n      <td>Total de la entidad Ciudad de México</td>\n      <td>0</td>\n      <td>Total de la entidad</td>\n      <td>0000</td>\n      <td>0</td>\n      <td>9209944</td>\n      <td>4805017</td>\n      <td>...</td>\n      <td>1898265</td>\n      <td>2536523</td>\n      <td>2084156</td>\n      <td>1290811</td>\n      <td>957162</td>\n      <td>568827</td>\n      <td>46172</td>\n      <td>77272</td>\n      <td>561128</td>\n      <td>10528</td>\n    </tr>\n    <tr>\n      <th>1</th>\n      <td>9</td>\n      <td>Ciudad de México</td>\n      <td>2</td>\n      <td>Azcapotzalco</td>\n      <td>0</td>\n      <td>Total del municipio</td>\n      <td>0000</td>\n      <td>0</td>\n      <td>432205</td>\n      <td>227255</td>\n      <td>...</td>\n      <td>96128</td>\n      <td>123961</td>\n      <td>105899</td>\n      <td>66399</td>\n      <td>50965</td>\n      <td>31801</td>\n      <td>1661</td>\n      <td>2869</td>\n      <td>22687</td>\n      <td>322</td>\n    </tr>\n    <tr>\n      <th>2</th>\n      <td>9</td>\n      <td>Ciudad de México</td>\n      <td>2</td>\n      <td>Azcapotzalco</td>\n      <td>1</td>\n      <td>Total de la localidad urbana</td>\n      <td>0000</td>\n      <td>0</td>\n      <td>432205</td>\n      <td>227255</td>\n      <td>...</td>\n      <td>96128</td>\n      <td>123961</td>\n      <td>105899</td>\n      <td>66399</td>\n      <td>50965</td>\n      <td>31801</td>\n      <td>1661</td>\n      <td>2869</td>\n      <td>22687</td>\n      <td>322</td>\n    </tr>\n  </tbody>\n</table>\n<p>3 rows × 229 columns</p>\n</div>"
     },
     "metadata": {},
     "execution_count": 41
    }
   ],
   "source": [
    "datag[:3]"
   ]
  },
  {
   "cell_type": "code",
   "execution_count": 42,
   "metadata": {},
   "outputs": [],
   "source": [
    "datag[\"ENTIDAD\"] = datag[\"ENTIDAD\"].astype(str).str.zfill(2)\n",
    "datag[\"MUN\"] = datag[\"MUN\"].astype(str).str.zfill(3)\n",
    "datag[\"LOC\"] = datag[\"LOC\"].astype(str).str.zfill(4)\n",
    "datag[\"AGEB\"] = datag[\"AGEB\"].astype(str).str.zfill(4)\n",
    "datag[\"MZA\"] = datag[\"MZA\"].astype(str).str.zfill(3)"
   ]
  },
  {
   "cell_type": "code",
   "execution_count": 43,
   "metadata": {},
   "outputs": [],
   "source": [
    "datagf = datag[(datag[\"ENTIDAD\"] != \"00\") & (datag[\"MUN\"] != \"000\") & (datag[\"LOC\"] != \"0000\") & (datag[\"AGEB\"] != \"0000\") & (datag[\"MZA\"] == \"000\")]"
   ]
  },
  {
   "cell_type": "code",
   "execution_count": 44,
   "metadata": {},
   "outputs": [
    {
     "output_type": "stream",
     "name": "stderr",
     "text": [
      "<ipython-input-44-0cbb3daff712>:1: SettingWithCopyWarning: \nA value is trying to be set on a copy of a slice from a DataFrame.\nTry using .loc[row_indexer,col_indexer] = value instead\n\nSee the caveats in the documentation: https://pandas.pydata.org/pandas-docs/stable/user_guide/indexing.html#returning-a-view-versus-a-copy\n  datagf[\"CVEGEO\"] = datagf[\"ENTIDAD\"] + datagf[\"MUN\"] + datagf[\"LOC\"] + datagf[\"AGEB\"]\n"
     ]
    }
   ],
   "source": [
    "datagf[\"CVEGEO\"] = datagf[\"ENTIDAD\"] + datagf[\"MUN\"] + datagf[\"LOC\"] + datagf[\"AGEB\"]"
   ]
  },
  {
   "cell_type": "code",
   "execution_count": 45,
   "metadata": {},
   "outputs": [],
   "source": [
    "poblaciones = datagf[[\"CVEGEO\",\"POBTOT\"]]"
   ]
  },
  {
   "cell_type": "code",
   "execution_count": 64,
   "metadata": {},
   "outputs": [],
   "source": [
    "agebs[\"centroide\"] = agebs[\"geometry\"].centroid.to_crs(\"EPSG:4326\")"
   ]
  },
  {
   "cell_type": "code",
   "execution_count": 66,
   "metadata": {},
   "outputs": [],
   "source": [
    "agebs[\"x\"] = agebs[\"centroide\"].x\n",
    "agebs[\"y\"] = agebs[\"centroide\"].y"
   ]
  },
  {
   "cell_type": "code",
   "execution_count": 67,
   "metadata": {},
   "outputs": [
    {
     "output_type": "execute_result",
     "data": {
      "text/plain": [
       "             CVEGEO CVE_ENT CVE_MUN CVE_LOC CVE_AGEB  \\\n",
       "0     0901000011716      09     010    0001     1716   \n",
       "1     0901000012150      09     010    0001     2150   \n",
       "2     0901000011133      09     010    0001     1133   \n",
       "3     0901000011307      09     010    0001     1307   \n",
       "4     0901000010281      09     010    0001     0281   \n",
       "...             ...     ...     ...     ...      ...   \n",
       "2426  0900700012564      09     007    0001     2564   \n",
       "2427  0900700012615      09     007    0001     2615   \n",
       "2428  0900700012969      09     007    0001     2969   \n",
       "2429  0900700013721      09     007    0001     3721   \n",
       "2430  0900700011034      09     007    0001     1034   \n",
       "\n",
       "                                               geometry  \\\n",
       "0     POLYGON ((2787237.541 816989.461, 2787288.728 ...   \n",
       "1     POLYGON ((2794154.458 823013.444, 2794155.774 ...   \n",
       "2     POLYGON ((2795690.723 820050.788, 2795684.238 ...   \n",
       "3     POLYGON ((2792584.475 815678.668, 2792624.325 ...   \n",
       "4     POLYGON ((2788845.392 823526.074, 2788840.549 ...   \n",
       "...                                                 ...   \n",
       "2426  POLYGON ((2814016.268 821043.511, 2814019.319 ...   \n",
       "2427  POLYGON ((2814358.791 820744.850, 2814405.087 ...   \n",
       "2428  POLYGON ((2815993.470 819777.763, 2816019.848 ...   \n",
       "2429  POLYGON ((2807966.150 821578.350, 2807941.550 ...   \n",
       "2430  POLYGON ((2808319.196 821552.683, 2808243.251 ...   \n",
       "\n",
       "                       centroide          x          y  \n",
       "0     POINT (-99.26029 19.32199) -99.260288  19.321990  \n",
       "1     POINT (-99.19330 19.37927) -99.193297  19.379268  \n",
       "2     POINT (-99.18462 19.34641) -99.184619  19.346414  \n",
       "3     POINT (-99.21148 19.31029) -99.211482  19.310287  \n",
       "4     POINT (-99.24396 19.38480) -99.243956  19.384795  \n",
       "...                          ...        ...        ...  \n",
       "2426  POINT (-99.00418 19.35348) -99.004176  19.353479  \n",
       "2427  POINT (-99.00108 19.35164) -99.001085  19.351638  \n",
       "2428  POINT (-98.98288 19.34340) -98.982882  19.343403  \n",
       "2429  POINT (-99.06319 19.36214) -99.063193  19.362144  \n",
       "2430  POINT (-99.05943 19.35856) -99.059431  19.358556  \n",
       "\n",
       "[2431 rows x 9 columns]"
      ],
      "text/html": "<div>\n<style scoped>\n    .dataframe tbody tr th:only-of-type {\n        vertical-align: middle;\n    }\n\n    .dataframe tbody tr th {\n        vertical-align: top;\n    }\n\n    .dataframe thead th {\n        text-align: right;\n    }\n</style>\n<table border=\"1\" class=\"dataframe\">\n  <thead>\n    <tr style=\"text-align: right;\">\n      <th></th>\n      <th>CVEGEO</th>\n      <th>CVE_ENT</th>\n      <th>CVE_MUN</th>\n      <th>CVE_LOC</th>\n      <th>CVE_AGEB</th>\n      <th>geometry</th>\n      <th>centroide</th>\n      <th>x</th>\n      <th>y</th>\n    </tr>\n  </thead>\n  <tbody>\n    <tr>\n      <th>0</th>\n      <td>0901000011716</td>\n      <td>09</td>\n      <td>010</td>\n      <td>0001</td>\n      <td>1716</td>\n      <td>POLYGON ((2787237.541 816989.461, 2787288.728 ...</td>\n      <td>POINT (-99.26029 19.32199)</td>\n      <td>-99.260288</td>\n      <td>19.321990</td>\n    </tr>\n    <tr>\n      <th>1</th>\n      <td>0901000012150</td>\n      <td>09</td>\n      <td>010</td>\n      <td>0001</td>\n      <td>2150</td>\n      <td>POLYGON ((2794154.458 823013.444, 2794155.774 ...</td>\n      <td>POINT (-99.19330 19.37927)</td>\n      <td>-99.193297</td>\n      <td>19.379268</td>\n    </tr>\n    <tr>\n      <th>2</th>\n      <td>0901000011133</td>\n      <td>09</td>\n      <td>010</td>\n      <td>0001</td>\n      <td>1133</td>\n      <td>POLYGON ((2795690.723 820050.788, 2795684.238 ...</td>\n      <td>POINT (-99.18462 19.34641)</td>\n      <td>-99.184619</td>\n      <td>19.346414</td>\n    </tr>\n    <tr>\n      <th>3</th>\n      <td>0901000011307</td>\n      <td>09</td>\n      <td>010</td>\n      <td>0001</td>\n      <td>1307</td>\n      <td>POLYGON ((2792584.475 815678.668, 2792624.325 ...</td>\n      <td>POINT (-99.21148 19.31029)</td>\n      <td>-99.211482</td>\n      <td>19.310287</td>\n    </tr>\n    <tr>\n      <th>4</th>\n      <td>0901000010281</td>\n      <td>09</td>\n      <td>010</td>\n      <td>0001</td>\n      <td>0281</td>\n      <td>POLYGON ((2788845.392 823526.074, 2788840.549 ...</td>\n      <td>POINT (-99.24396 19.38480)</td>\n      <td>-99.243956</td>\n      <td>19.384795</td>\n    </tr>\n    <tr>\n      <th>...</th>\n      <td>...</td>\n      <td>...</td>\n      <td>...</td>\n      <td>...</td>\n      <td>...</td>\n      <td>...</td>\n      <td>...</td>\n      <td>...</td>\n      <td>...</td>\n    </tr>\n    <tr>\n      <th>2426</th>\n      <td>0900700012564</td>\n      <td>09</td>\n      <td>007</td>\n      <td>0001</td>\n      <td>2564</td>\n      <td>POLYGON ((2814016.268 821043.511, 2814019.319 ...</td>\n      <td>POINT (-99.00418 19.35348)</td>\n      <td>-99.004176</td>\n      <td>19.353479</td>\n    </tr>\n    <tr>\n      <th>2427</th>\n      <td>0900700012615</td>\n      <td>09</td>\n      <td>007</td>\n      <td>0001</td>\n      <td>2615</td>\n      <td>POLYGON ((2814358.791 820744.850, 2814405.087 ...</td>\n      <td>POINT (-99.00108 19.35164)</td>\n      <td>-99.001085</td>\n      <td>19.351638</td>\n    </tr>\n    <tr>\n      <th>2428</th>\n      <td>0900700012969</td>\n      <td>09</td>\n      <td>007</td>\n      <td>0001</td>\n      <td>2969</td>\n      <td>POLYGON ((2815993.470 819777.763, 2816019.848 ...</td>\n      <td>POINT (-98.98288 19.34340)</td>\n      <td>-98.982882</td>\n      <td>19.343403</td>\n    </tr>\n    <tr>\n      <th>2429</th>\n      <td>0900700013721</td>\n      <td>09</td>\n      <td>007</td>\n      <td>0001</td>\n      <td>3721</td>\n      <td>POLYGON ((2807966.150 821578.350, 2807941.550 ...</td>\n      <td>POINT (-99.06319 19.36214)</td>\n      <td>-99.063193</td>\n      <td>19.362144</td>\n    </tr>\n    <tr>\n      <th>2430</th>\n      <td>0900700011034</td>\n      <td>09</td>\n      <td>007</td>\n      <td>0001</td>\n      <td>1034</td>\n      <td>POLYGON ((2808319.196 821552.683, 2808243.251 ...</td>\n      <td>POINT (-99.05943 19.35856)</td>\n      <td>-99.059431</td>\n      <td>19.358556</td>\n    </tr>\n  </tbody>\n</table>\n<p>2431 rows × 9 columns</p>\n</div>"
     },
     "metadata": {},
     "execution_count": 67
    }
   ],
   "source": [
    "agebs"
   ]
  },
  {
   "cell_type": "code",
   "execution_count": 74,
   "metadata": {},
   "outputs": [],
   "source": [
    "salida = pd.merge(agebs[[\"CVEGEO\",\"x\",\"y\"]],poblaciones,how=\"outer\",on=\"CVEGEO\").dropna()"
   ]
  },
  {
   "cell_type": "code",
   "execution_count": 77,
   "metadata": {},
   "outputs": [],
   "source": [
    "salida.to_csv(\"../datos/procesados/agebs_cdmx_pob.csv\",index=False)"
   ]
  },
  {
   "cell_type": "code",
   "execution_count": 78,
   "metadata": {},
   "outputs": [
    {
     "output_type": "execute_result",
     "data": {
      "text/plain": [
       "          CVEGEO          x          y  POBTOT\n",
       "0  0901000011716 -99.260288  19.321990  7042.0\n",
       "1  0901000012150 -99.193297  19.379268  4588.0\n",
       "2  0901000011133 -99.184619  19.346414  2203.0"
      ],
      "text/html": "<div>\n<style scoped>\n    .dataframe tbody tr th:only-of-type {\n        vertical-align: middle;\n    }\n\n    .dataframe tbody tr th {\n        vertical-align: top;\n    }\n\n    .dataframe thead th {\n        text-align: right;\n    }\n</style>\n<table border=\"1\" class=\"dataframe\">\n  <thead>\n    <tr style=\"text-align: right;\">\n      <th></th>\n      <th>CVEGEO</th>\n      <th>x</th>\n      <th>y</th>\n      <th>POBTOT</th>\n    </tr>\n  </thead>\n  <tbody>\n    <tr>\n      <th>0</th>\n      <td>0901000011716</td>\n      <td>-99.260288</td>\n      <td>19.321990</td>\n      <td>7042.0</td>\n    </tr>\n    <tr>\n      <th>1</th>\n      <td>0901000012150</td>\n      <td>-99.193297</td>\n      <td>19.379268</td>\n      <td>4588.0</td>\n    </tr>\n    <tr>\n      <th>2</th>\n      <td>0901000011133</td>\n      <td>-99.184619</td>\n      <td>19.346414</td>\n      <td>2203.0</td>\n    </tr>\n  </tbody>\n</table>\n</div>"
     },
     "metadata": {},
     "execution_count": 78
    }
   ],
   "source": [
    "salida[:3]"
   ]
  },
  {
   "cell_type": "code",
   "execution_count": null,
   "metadata": {},
   "outputs": [],
   "source": []
  }
 ]
}